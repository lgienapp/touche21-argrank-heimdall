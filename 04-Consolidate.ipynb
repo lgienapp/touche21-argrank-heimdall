{
 "cells": [
  {
   "cell_type": "code",
   "execution_count": 1,
   "metadata": {},
   "outputs": [],
   "source": [
    "import pandas as pd"
   ]
  },
  {
   "cell_type": "code",
   "execution_count": 2,
   "metadata": {},
   "outputs": [],
   "source": [
    "df_text = pd.read_parquet(\"data/args.parquet\")\n",
    "df_quality = pd.read_parquet(\"data/quality.parquet\")\n",
    "df_cluster = pd.read_parquet(\"data/clusters.parquet\")"
   ]
  },
  {
   "cell_type": "code",
   "execution_count": 3,
   "metadata": {},
   "outputs": [],
   "source": [
    "df = (\n",
    "    pd.merge(\n",
    "        df_text,\n",
    "        (\n",
    "            pd.merge(\n",
    "                df_cluster,\n",
    "                df_quality,\n",
    "                on = \"id\",\n",
    "                how = \"inner\"\n",
    "            )\n",
    "        ),\n",
    "        on = \"id\",\n",
    "        how = \"inner\"\n",
    "    )\n",
    "    .sort_values([\"quality\"], ascending=False)\n",
    "    .drop_duplicates(subset=\"id\", keep=\"first\")\n",
    "    .sort_values([\"cluster\",\"quality\"], ascending=False)\n",
    "    .reset_index(drop=True)\n",
    ")\n",
    "\n",
    "df[\"quality\"] = (df[\"quality\"] - df[\"quality\"].min())/(df[\"quality\"].max() - df[\"quality\"].min())"
   ]
  },
  {
   "cell_type": "code",
   "execution_count": 4,
   "metadata": {},
   "outputs": [],
   "source": [
    "df.to_parquet(\"data/index.parquet\")"
   ]
  }
 ],
 "metadata": {
  "kernelspec": {
   "display_name": "Python 3",
   "language": "python",
   "name": "python3"
  },
  "language_info": {
   "codemirror_mode": {
    "name": "ipython",
    "version": 3
   },
   "file_extension": ".py",
   "mimetype": "text/x-python",
   "name": "python",
   "nbconvert_exporter": "python",
   "pygments_lexer": "ipython3",
   "version": "3.8.6"
  }
 },
 "nbformat": 4,
 "nbformat_minor": 4
}
